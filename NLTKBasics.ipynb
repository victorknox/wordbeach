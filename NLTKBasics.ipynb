{
  "nbformat": 4,
  "nbformat_minor": 0,
  "metadata": {
    "colab": {
      "name": "NLTKBasics",
      "provenance": []
    },
    "kernelspec": {
      "name": "python3",
      "display_name": "Python 3.8.5 64-bit"
    },
    "language_info": {
      "name": "python",
      "version": "3.8.5"
    },
    "interpreter": {
      "hash": "916dbcbb3f70747c44a77c7bcd40155683ae19c65e1c03b4aa3499c5328201f1"
    }
  },
  "cells": [
    {
      "cell_type": "markdown",
      "metadata": {
        "id": "IqFtYNV59Qbt"
      },
      "source": [
        "# **NLTK Install** \n",
        "It is a python library, which is a set of tools you can download to do specific tasks in python. You can install python libraries using the **pip** install command below! pip is the python library manager."
      ]
    },
    {
      "cell_type": "code",
      "metadata": {
        "colab": {
          "base_uri": "https://localhost:8080/"
        },
        "id": "Qh68PQC887Gn",
        "outputId": "a9176bec-efb5-4eb5-b165-4aa8d3a15245"
      },
      "source": [
        "!pip install nltk\n",
        "import nltk"
      ],
      "execution_count": 22,
      "outputs": [
        {
          "output_type": "stream",
          "name": "stdout",
          "text": [
            "Requirement already satisfied: nltk in /usr/local/lib/python3.8/dist-packages (3.6.2)\nRequirement already satisfied: click in /home/victorknox/.local/lib/python3.8/site-packages (from nltk) (8.0.1)\nRequirement already satisfied: tqdm in /usr/local/lib/python3.8/dist-packages (from nltk) (4.61.1)\nRequirement already satisfied: regex in /usr/local/lib/python3.8/dist-packages (from nltk) (2021.4.4)\nRequirement already satisfied: joblib in /usr/local/lib/python3.8/dist-packages (from nltk) (1.0.1)\n"
          ]
        }
      ]
    },
    {
      "cell_type": "code",
      "metadata": {
        "id": "9gG8t6Z49onJ"
      },
      "source": [
        "text=\"A SHEPHERD-BOY, who watched a flock of sheep near a village, brought out the villagers three or four times by crying out, Wolf! Wolf! and when his neighbors came to help him, laughed at them for their pains. The Wolf, however, did truly come at last. The Shepherd-boy, now really alarmed, shouted in an agony of terror: Pray, do come and help me; the Wolf is killing the sheep; but no one paid any heed to his cries, nor rendered any assistance. The Wolf, having no cause of fear, at his leisure lacerated or destroyed the whole flock\""
      ],
      "execution_count": 23,
      "outputs": []
    },
    {
      "cell_type": "markdown",
      "metadata": {
        "id": "y3lpFaaD_E5x"
      },
      "source": [
        "# **Tokenization** \n",
        "This is the process by which a large quantity of text is divided into smaller parts called tokens\n",
        "\n",
        "Natural Language toolkit has very important module NLTK tokenize sentences which further comprises of sub-modules\n",
        "\n",
        "1.   Word Tokenise\n",
        "2.   Sentence Tokenise\n"
      ]
    },
    {
      "cell_type": "code",
      "metadata": {
        "colab": {
          "base_uri": "https://localhost:8080/"
        },
        "id": "AXv78Y4oAXUi",
        "outputId": "19530919-36b4-4d2c-ea89-6cdcf17748b1"
      },
      "source": [
        "from nltk.tokenize import sent_tokenize\n",
        "# nltk.download('punkt')\n",
        "\n",
        "# sentence.split(\" \")\n",
        "sentences = sent_tokenize(text)\n",
        "print(sentences)"
      ],
      "execution_count": 24,
      "outputs": [
        {
          "output_type": "stream",
          "name": "stdout",
          "text": [
            "['A SHEPHERD-BOY, who watched a flock of sheep near a village, brought out the villagers three or four times by crying out, Wolf!', 'Wolf!', 'and when his neighbors came to help him, laughed at them for their pains.', 'The Wolf, however, did truly come at last.', 'The Shepherd-boy, now really alarmed, shouted in an agony of terror: Pray, do come and help me; the Wolf is killing the sheep; but no one paid any heed to his cries, nor rendered any assistance.', 'The Wolf, having no cause of fear, at his leisure lacerated or destroyed the whole flock']\n"
          ]
        }
      ]
    },
    {
      "cell_type": "code",
      "metadata": {
        "colab": {
          "base_uri": "https://localhost:8080/"
        },
        "id": "mDUdz72F_dEQ",
        "outputId": "4e30bce9-669b-4f91-8e75-d8389aaa5e80"
      },
      "source": [
        "from nltk.tokenize import word_tokenize\n",
        "tokens = word_tokenize(text)\n",
        "print(tokens)"
      ],
      "execution_count": 25,
      "outputs": [
        {
          "output_type": "stream",
          "name": "stdout",
          "text": [
            "['A', 'SHEPHERD-BOY', ',', 'who', 'watched', 'a', 'flock', 'of', 'sheep', 'near', 'a', 'village', ',', 'brought', 'out', 'the', 'villagers', 'three', 'or', 'four', 'times', 'by', 'crying', 'out', ',', 'Wolf', '!', 'Wolf', '!', 'and', 'when', 'his', 'neighbors', 'came', 'to', 'help', 'him', ',', 'laughed', 'at', 'them', 'for', 'their', 'pains', '.', 'The', 'Wolf', ',', 'however', ',', 'did', 'truly', 'come', 'at', 'last', '.', 'The', 'Shepherd-boy', ',', 'now', 'really', 'alarmed', ',', 'shouted', 'in', 'an', 'agony', 'of', 'terror', ':', 'Pray', ',', 'do', 'come', 'and', 'help', 'me', ';', 'the', 'Wolf', 'is', 'killing', 'the', 'sheep', ';', 'but', 'no', 'one', 'paid', 'any', 'heed', 'to', 'his', 'cries', ',', 'nor', 'rendered', 'any', 'assistance', '.', 'The', 'Wolf', ',', 'having', 'no', 'cause', 'of', 'fear', ',', 'at', 'his', 'leisure', 'lacerated', 'or', 'destroyed', 'the', 'whole', 'flock']\n"
          ]
        }
      ]
    },
    {
      "cell_type": "markdown",
      "metadata": {
        "id": "15CZvKkyCP1F"
      },
      "source": [
        "# StopWords Removal"
      ]
    },
    {
      "cell_type": "markdown",
      "metadata": {
        "id": "2MxqKQrNNG6l"
      },
      "source": [
        "# POS Tagging"
      ]
    },
    {
      "cell_type": "code",
      "metadata": {
        "colab": {
          "base_uri": "https://localhost:8080/"
        },
        "id": "xR2dlXzJCT4U",
        "outputId": "8d515d58-3dab-4510-879a-261244404ccf"
      },
      "source": [
        "nltk.download('stopwords')\n",
        "from nltk.corpus import stopwords\n",
        "\n",
        "tokens_without_stopwords = []\n",
        "sr = stopwords.words('english')\n",
        "\n",
        "for token in tokens:\n",
        "    if token not in sr:\n",
        "        tokens_without_stopwords.append(token)\n",
        "\n",
        "print(tokens_without_stopwords)"
      ],
      "execution_count": 26,
      "outputs": [
        {
          "output_type": "stream",
          "name": "stdout",
          "text": [
            "['A', 'SHEPHERD-BOY', ',', 'watched', 'flock', 'sheep', 'near', 'village', ',', 'brought', 'villagers', 'three', 'four', 'times', 'crying', ',', 'Wolf', '!', 'Wolf', '!', 'neighbors', 'came', 'help', ',', 'laughed', 'pains', '.', 'The', 'Wolf', ',', 'however', ',', 'truly', 'come', 'last', '.', 'The', 'Shepherd-boy', ',', 'really', 'alarmed', ',', 'shouted', 'agony', 'terror', ':', 'Pray', ',', 'come', 'help', ';', 'Wolf', 'killing', 'sheep', ';', 'one', 'paid', 'heed', 'cries', ',', 'rendered', 'assistance', '.', 'The', 'Wolf', ',', 'cause', 'fear', ',', 'leisure', 'lacerated', 'destroyed', 'whole', 'flock']\n",
            "[nltk_data] Downloading package stopwords to\n",
            "[nltk_data]     /home/victorknox/nltk_data...\n",
            "[nltk_data]   Package stopwords is already up-to-date!\n"
          ]
        }
      ]
    },
    {
      "cell_type": "markdown",
      "metadata": {
        "id": "Yk2d_6_7B3-K"
      },
      "source": []
    },
    {
      "cell_type": "code",
      "metadata": {
        "colab": {
          "base_uri": "https://localhost:8080/"
        },
        "id": "hKa1ImlzNKAK",
        "outputId": "1acf0a97-fe99-408f-b9e6-660e03153229"
      },
      "source": [
        "nltk.download('averaged_perceptron_tagger')\n",
        "from nltk import pos_tag\n",
        "# POS (Parts Of Speech) for: nouns, adjectives, verbs and adverbs\n",
        "# DI_POS_TYPES = {'NN':'n', 'JJ':'a', 'VB':'v', 'RB':'r'} \n",
        "# POS_TYPES = list(DI_POS_TYPES.keys())\n",
        "\n",
        "for sentence in sentences:\n",
        "      \n",
        "    # Tokens\n",
        "    wordsList = nltk.word_tokenize(sentence)\n",
        "  \n",
        "    # removing stop words \n",
        "    wordsList = [w for w in wordsList if not w in sr] \n",
        "\n",
        "    #  Using a Tagger. Which is part-of-speech tagger or POS-tagger. \n",
        "    tagged = nltk.pos_tag(wordsList)\n",
        "  \n",
        "    print(tagged)"
      ],
      "execution_count": 27,
      "outputs": [
        {
          "output_type": "stream",
          "name": "stdout",
          "text": [
            "[('A', 'DT'), ('SHEPHERD-BOY', 'NNP'), (',', ','), ('watched', 'VBD'), ('flock', 'NN'), ('sheep', 'NN'), ('near', 'IN'), ('village', 'NN'), (',', ','), ('brought', 'VBD'), ('villagers', 'NNS'), ('three', 'CD'), ('four', 'CD'), ('times', 'NNS'), ('crying', 'VBG'), (',', ','), ('Wolf', 'NNP'), ('!', '.')]\n",
            "[('Wolf', 'NN'), ('!', '.')]\n",
            "[('neighbors', 'NNS'), ('came', 'VBD'), ('help', 'NN'), (',', ','), ('laughed', 'VBD'), ('pains', 'NNS'), ('.', '.')]\n",
            "[('The', 'DT'), ('Wolf', 'NNP'), (',', ','), ('however', 'RB'), (',', ','), ('truly', 'RB'), ('come', 'VBN'), ('last', 'JJ'), ('.', '.')]\n",
            "[('The', 'DT'), ('Shepherd-boy', 'NNP'), (',', ','), ('really', 'RB'), ('alarmed', 'JJ'), (',', ','), ('shouted', 'VBD'), ('agony', 'JJ'), ('terror', 'NN'), (':', ':'), ('Pray', 'NN'), (',', ','), ('come', 'VB'), ('help', 'NN'), (';', ':'), ('Wolf', 'NNP'), ('killing', 'VBG'), ('sheep', 'RB'), (';', ':'), ('one', 'CD'), ('paid', 'VBD'), ('heed', 'NN'), ('cries', 'NNS'), (',', ','), ('rendered', 'VBD'), ('assistance', 'NN'), ('.', '.')]\n",
            "[('The', 'DT'), ('Wolf', 'NNP'), (',', ','), ('cause', 'NN'), ('fear', 'NN'), (',', ','), ('leisure', 'NN'), ('lacerated', 'VBD'), ('destroyed', 'JJ'), ('whole', 'JJ'), ('flock', 'NN')]\n",
            "[nltk_data] Downloading package averaged_perceptron_tagger to\n",
            "[nltk_data]     /home/victorknox/nltk_data...\n",
            "[nltk_data]   Package averaged_perceptron_tagger is already up-to-\n",
            "[nltk_data]       date!\n"
          ]
        }
      ]
    },
    {
      "cell_type": "markdown",
      "metadata": {
        "id": "mveXajDRPKg9"
      },
      "source": [
        "# Stemming And Lemmatizer\n",
        "\n",
        "\n",
        "*   Stemming: Trying to shorten a word with simple regex rules\n",
        "*   Lemmatization: Trying to find the root word with linguistics rules + regex rules\n",
        "\n"
      ]
    },
    {
      "cell_type": "code",
      "metadata": {
        "colab": {
          "base_uri": "https://localhost:8080/"
        },
        "id": "pzHtltoGP1BX",
        "outputId": "cd2ab24b-26d6-4d4c-b018-edb8c2fa694a"
      },
      "source": [
        "from nltk.stem import PorterStemmer\n",
        "stemmer = PorterStemmer()\n",
        "print(stemmer.stem('increases'))"
      ],
      "execution_count": 28,
      "outputs": [
        {
          "output_type": "stream",
          "name": "stdout",
          "text": [
            "increas\n"
          ]
        }
      ]
    },
    {
      "cell_type": "code",
      "metadata": {
        "colab": {
          "base_uri": "https://localhost:8080/"
        },
        "id": "8wrdEOp7Qgev",
        "outputId": "328cbf0d-570b-4cfd-9540-5adf6950b3a8"
      },
      "source": [
        "from nltk.stem import WordNetLemmatizer\n",
        "\n",
        "lemmatizer = WordNetLemmatizer()\n",
        "\n",
        "print(lemmatizer.lemmatize('increases'))"
      ],
      "execution_count": 29,
      "outputs": [
        {
          "output_type": "stream",
          "name": "stdout",
          "text": [
            "increase\n"
          ]
        }
      ]
    },
    {
      "cell_type": "code",
      "metadata": {
        "colab": {
          "base_uri": "https://localhost:8080/"
        },
        "id": "BIRsCdPDRdGm",
        "outputId": "d5297e70-0111-4446-a564-99a3ac74e8e0"
      },
      "source": [
        "from nltk.stem import WordNetLemmatizer\n",
        "\n",
        "lemmatizer = WordNetLemmatizer()\n",
        "\n",
        "print(lemmatizer.lemmatize('playing', pos=\"v\"))\n",
        "\n",
        "print(lemmatizer.lemmatize('playing', pos=\"n\"))"
      ],
      "execution_count": 30,
      "outputs": [
        {
          "output_type": "stream",
          "name": "stdout",
          "text": [
            "play\nplaying\n"
          ]
        }
      ]
    },
    {
      "cell_type": "code",
      "metadata": {
        "id": "o3UCMhl1RmUy"
      },
      "source": [],
      "execution_count": null,
      "outputs": []
    }
  ]
}